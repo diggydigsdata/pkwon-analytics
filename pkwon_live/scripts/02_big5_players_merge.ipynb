{
 "cells": [
  {
   "cell_type": "code",
   "execution_count": 122,
   "id": "8433d1a4-7a62-4c10-bc57-d2b6258b0630",
   "metadata": {},
   "outputs": [],
   "source": [
    "# ======================================\n",
    "# Merge Standard + Misc Cleaned CSVs\n",
    "# ======================================\n",
    "\n",
    "import pandas as pd\n",
    "import glob\n",
    "import os\n",
    "from tqdm import tqdm  # simple progress bar"
   ]
  },
  {
   "cell_type": "code",
   "execution_count": 123,
   "id": "7a517ead-2d6f-4748-8b6e-bf3f159925cc",
   "metadata": {},
   "outputs": [
    {
     "name": "stdout",
     "output_type": "stream",
     "text": [
      "c:\\Users\\eoind\\anaconda3\\envs\\fbref_analytics\\python.exe\n",
      "C:\\Users\\eoind\\AppData\\Local\\Microsoft\\WindowsApps\\python.exe\n"
     ]
    }
   ],
   "source": [
    "!where python"
   ]
  },
  {
   "cell_type": "code",
   "execution_count": 124,
   "id": "4ce32dca-a3e5-46fb-957c-7b8d02a7825f",
   "metadata": {},
   "outputs": [],
   "source": [
    "# --- SETTINGS ---\n",
    "clean_folder = \"../data/clean\"   # Adjust if needed\n",
    "save_folder = \"../data/cleaned_and_merged\"   # Where merged files will go\n",
    "\n",
    "# --- Create merged folder if it doesn't exist ---\n",
    "os.makedirs(save_folder, exist_ok=True)"
   ]
  },
  {
   "cell_type": "code",
   "execution_count": 125,
   "id": "b75f1201-1008-4661-96b9-b13b1553f585",
   "metadata": {},
   "outputs": [
    {
     "name": "stdout",
     "output_type": "stream",
     "text": [
      "Found 106 cleaned CSVs.\n"
     ]
    }
   ],
   "source": [
    "# --- Find all cleaned CSVs ---\n",
    "csv_files = glob.glob(os.path.join(clean_folder, \"**\", \"*.csv\"), recursive=True)\n",
    "print(f\"Found {len(csv_files)} cleaned CSVs.\")\n"
   ]
  },
  {
   "cell_type": "code",
   "execution_count": 126,
   "id": "5c12b2e1-b35f-4f03-ac7a-00096eed37a7",
   "metadata": {},
   "outputs": [
    {
     "name": "stdout",
     "output_type": "stream",
     "text": [
      "Detected 53 seasons ready for merging.\n"
     ]
    }
   ],
   "source": [
    "# --- Group CSVs by league+season ---\n",
    "# (Assuming filenames like: 'EPL_2020-2021_standard.csv' and 'EPL_2020-2021_misc.csv')\n",
    "file_groups = dict()\n",
    "\n",
    "for file in csv_files:\n",
    "    filename = os.path.basename(file)\n",
    "    key = filename.replace(\"_standard.csv\", \"\").replace(\"_misc.csv\", \"\")\n",
    "    if key not in file_groups:\n",
    "        file_groups[key] = {}\n",
    "    if \"standard\" in filename:\n",
    "        file_groups[key][\"standard\"] = file\n",
    "    elif \"misc\" in filename:\n",
    "        file_groups[key][\"misc\"] = file\n",
    "\n",
    "print(f\"Detected {len(file_groups)} seasons ready for merging.\")"
   ]
  },
  {
   "cell_type": "code",
   "execution_count": 127,
   "id": "a0f1aed2-43c7-472c-a0a0-5857f84cf964",
   "metadata": {},
   "outputs": [
    {
     "name": "stderr",
     "output_type": "stream",
     "text": [
      "Merging: 100%|██████████| 53/53 [00:02<00:00, 17.70it/s]"
     ]
    },
    {
     "name": "stdout",
     "output_type": "stream",
     "text": [
      "\n",
      "✅ All files merged and saved into 'merged/' folder!\n"
     ]
    },
    {
     "name": "stderr",
     "output_type": "stream",
     "text": [
      "\n"
     ]
    }
   ],
   "source": [
    "# --- Merge standard + misc ---\n",
    "for key, files in tqdm(file_groups.items(), desc=\"Merging\"):\n",
    "    try:\n",
    "        # Load both files\n",
    "        df_standard = pd.read_csv(files.get(\"standard\"))\n",
    "        df_misc = pd.read_csv(files.get(\"misc\"))\n",
    "\n",
    "        # Merge on player and team\n",
    "        df_merged = pd.merge(\n",
    "            df_standard, df_misc,\n",
    "            on=[\"player\", \"team\"],\n",
    "            how=\"outer\",\n",
    "            suffixes=(\"_standard\", \"_misc\")\n",
    "        )\n",
    "\n",
    "        # Save\n",
    "        save_path = os.path.join(save_folder, f\"{key}_merged.csv\")\n",
    "        df_merged.to_csv(save_path, index=False)\n",
    "\n",
    "    except Exception as e:\n",
    "        print(f\"⚠️ Failed merging {key}: {e}\")\n",
    "\n",
    "print(\"\\n✅ All files merged and saved into 'merged/' folder!\")"
   ]
  },
  {
   "cell_type": "code",
   "execution_count": 128,
   "id": "3435b0de-9400-47e5-a2d4-8cba3261dd73",
   "metadata": {},
   "outputs": [
    {
     "name": "stdout",
     "output_type": "stream",
     "text": [
      "Found 53 files:\n",
      "['..\\\\data\\\\cleaned_and_merged\\\\Bundesliga_2016-2017_merged.csv', '..\\\\data\\\\cleaned_and_merged\\\\Bundesliga_2017-2018_merged.csv', '..\\\\data\\\\cleaned_and_merged\\\\Bundesliga_2018-2019_merged.csv', '..\\\\data\\\\cleaned_and_merged\\\\Bundesliga_2019-2020_merged.csv', '..\\\\data\\\\cleaned_and_merged\\\\Bundesliga_2020-2021_merged.csv', '..\\\\data\\\\cleaned_and_merged\\\\Bundesliga_2021-2022_merged.csv', '..\\\\data\\\\cleaned_and_merged\\\\Bundesliga_2022-2023_merged.csv', '..\\\\data\\\\cleaned_and_merged\\\\Bundesliga_2023-2024_merged.csv', '..\\\\data\\\\cleaned_and_merged\\\\Bundesliga_2024-2025_merged.csv', '..\\\\data\\\\cleaned_and_merged\\\\Champions League_2016-2017_merged.csv', '..\\\\data\\\\cleaned_and_merged\\\\Champions League_2017-2018_merged.csv', '..\\\\data\\\\cleaned_and_merged\\\\Champions League_2018-2019_merged.csv', '..\\\\data\\\\cleaned_and_merged\\\\Champions League_2019-2020_merged.csv', '..\\\\data\\\\cleaned_and_merged\\\\Champions League_2020-2021_merged.csv', '..\\\\data\\\\cleaned_and_merged\\\\Champions League_2021-2022_merged.csv', '..\\\\data\\\\cleaned_and_merged\\\\Champions League_2022-2023_merged.csv', '..\\\\data\\\\cleaned_and_merged\\\\Champions League_2023-2024_merged.csv', '..\\\\data\\\\cleaned_and_merged\\\\EPL_2016-2017_merged.csv', '..\\\\data\\\\cleaned_and_merged\\\\EPL_2017-2018_merged.csv', '..\\\\data\\\\cleaned_and_merged\\\\EPL_2018-2019_merged.csv', '..\\\\data\\\\cleaned_and_merged\\\\EPL_2019-2020_merged.csv', '..\\\\data\\\\cleaned_and_merged\\\\EPL_2020-2021_merged.csv', '..\\\\data\\\\cleaned_and_merged\\\\EPL_2021-2022_merged.csv', '..\\\\data\\\\cleaned_and_merged\\\\EPL_2022-2023_merged.csv', '..\\\\data\\\\cleaned_and_merged\\\\EPL_2023-2024_merged.csv', '..\\\\data\\\\cleaned_and_merged\\\\EPL_2024-2025_merged.csv', '..\\\\data\\\\cleaned_and_merged\\\\La Liga_2016-2017_merged.csv', '..\\\\data\\\\cleaned_and_merged\\\\La Liga_2017-2018_merged.csv', '..\\\\data\\\\cleaned_and_merged\\\\La Liga_2018-2019_merged.csv', '..\\\\data\\\\cleaned_and_merged\\\\La Liga_2019-2020_merged.csv', '..\\\\data\\\\cleaned_and_merged\\\\La Liga_2020-2021_merged.csv', '..\\\\data\\\\cleaned_and_merged\\\\La Liga_2021-2022_merged.csv', '..\\\\data\\\\cleaned_and_merged\\\\La Liga_2022-2023_merged.csv', '..\\\\data\\\\cleaned_and_merged\\\\La Liga_2023-2024_merged.csv', '..\\\\data\\\\cleaned_and_merged\\\\La Liga_2024-2025_merged.csv', '..\\\\data\\\\cleaned_and_merged\\\\Ligue 1_2016-2017_merged.csv', '..\\\\data\\\\cleaned_and_merged\\\\Ligue 1_2017-2018_merged.csv', '..\\\\data\\\\cleaned_and_merged\\\\Ligue 1_2018-2019_merged.csv', '..\\\\data\\\\cleaned_and_merged\\\\Ligue 1_2019-2020_merged.csv', '..\\\\data\\\\cleaned_and_merged\\\\Ligue 1_2020-2021_merged.csv', '..\\\\data\\\\cleaned_and_merged\\\\Ligue 1_2021-2022_merged.csv', '..\\\\data\\\\cleaned_and_merged\\\\Ligue 1_2022-2023_merged.csv', '..\\\\data\\\\cleaned_and_merged\\\\Ligue 1_2023-2024_merged.csv', '..\\\\data\\\\cleaned_and_merged\\\\Ligue 1_2024-2025_merged.csv', '..\\\\data\\\\cleaned_and_merged\\\\Serie A_2016-2017_merged.csv', '..\\\\data\\\\cleaned_and_merged\\\\Serie A_2017-2018_merged.csv', '..\\\\data\\\\cleaned_and_merged\\\\Serie A_2018-2019_merged.csv', '..\\\\data\\\\cleaned_and_merged\\\\Serie A_2019-2020_merged.csv', '..\\\\data\\\\cleaned_and_merged\\\\Serie A_2020-2021_merged.csv', '..\\\\data\\\\cleaned_and_merged\\\\Serie A_2021-2022_merged.csv', '..\\\\data\\\\cleaned_and_merged\\\\Serie A_2022-2023_merged.csv', '..\\\\data\\\\cleaned_and_merged\\\\Serie A_2023-2024_merged.csv', '..\\\\data\\\\cleaned_and_merged\\\\Serie A_2024-2025_merged.csv']\n",
      "c:\\Users\\eoind\\Documents\\Projects\\analytics\\football\\penalties\\penalties_won\\scripts\n"
     ]
    }
   ],
   "source": [
    "input_folder = input_folder = os.path.join(\"..\", \"data\", \"cleaned_and_merged\")\n",
    "csv_files = glob.glob(os.path.join(input_folder, \"*.csv\"))\n",
    "\n",
    "print(f\"Found {len(csv_files)} files:\")\n",
    "print(csv_files)\n",
    "print(os.getcwd())"
   ]
  },
  {
   "cell_type": "code",
   "execution_count": 129,
   "id": "b8f7ce54-4c4d-4dbe-a1c0-89ead9444327",
   "metadata": {},
   "outputs": [
    {
     "name": "stdout",
     "output_type": "stream",
     "text": [
      "Done! Combined shape: (30875, 37)\n"
     ]
    }
   ],
   "source": [
    "# Set your input and output folder paths\n",
    "input_folder = os.path.join(\"..\", \"data\", \"cleaned_and_merged\")\n",
    "output_folder = os.path.join(\"..\", \"data\", \"cleaned_and_merged\", \"big5_standard_misc_merged\")\n",
    "\n",
    "# Make sure the output folder exists\n",
    "os.makedirs(output_folder, exist_ok=True)\n",
    "\n",
    "# Initialize an empty list to hold DataFrames\n",
    "dfs = []\n",
    "\n",
    "# Loop through all CSVs in the merged folder\n",
    "for file_path in glob.glob(os.path.join(input_folder, \"*.csv\")):\n",
    "    # Extract filename\n",
    "    filename = os.path.basename(file_path)  # example: 'Bundesliga_2016-2017_merged.csv'\n",
    "    parts = filename.split(\"_\")  # ['Bundesliga', '2016-2017', 'merged.csv']\n",
    "    \n",
    "    # Extract league and season\n",
    "    league = parts[0]\n",
    "    season = parts[1]\n",
    "    \n",
    "    # Read CSV\n",
    "    df = pd.read_csv(file_path)\n",
    "    \n",
    "    # Add new columns\n",
    "    df['comp'] = league\n",
    "    df['season'] = season\n",
    "    \n",
    "    # Add to list\n",
    "    dfs.append(df)\n",
    "\n",
    "# Concatenate everything\n",
    "big5_standard_misc = pd.concat(dfs, ignore_index=True)\n",
    "\n",
    "# Save the final DataFrame\n",
    "output_path = os.path.join(output_folder, \"big5_standard_misc.csv\")\n",
    "big5_standard_misc.to_csv(output_path, index=False)\n",
    "\n",
    "print(f\"Done! Combined shape: {big5_standard_misc.shape}\")"
   ]
  },
  {
   "cell_type": "code",
   "execution_count": 130,
   "id": "97995bc2-06fc-4d96-b117-043a401a8663",
   "metadata": {},
   "outputs": [
    {
     "name": "stdout",
     "output_type": "stream",
     "text": [
      "player                              0\n",
      "nationality_standard             1653\n",
      "position_standard                   6\n",
      "team                                0\n",
      "age_standard                       14\n",
      "birth_year_standard                14\n",
      "matches_played                      0\n",
      "starts                              0\n",
      "minutes                             1\n",
      "goals                               0\n",
      "assists                             0\n",
      "goals_and_assists                   0\n",
      "non_penalty_goals                   0\n",
      "pens_scored                         0\n",
      "pens_attempted                      0\n",
      "goals_per90                         1\n",
      "assists_per90                       1\n",
      "goals_and_assists_per90             1\n",
      "non_penalty_goals_per90             1\n",
      "non_penalty_goals_and_assists       1\n",
      "country_code_standard              28\n",
      "nationality_misc                 1653\n",
      "position_misc                       6\n",
      "age_misc                           14\n",
      "birth_year_misc                    14\n",
      "fouls_drawn                        21\n",
      "offsides                           21\n",
      "pkwon                              21\n",
      "country_code_misc                  28\n",
      "comp                                0\n",
      "season                              0\n",
      "xg_expected_goals                3434\n",
      "npxg_non_penalty_xg              3434\n",
      "xag_expected_assisted_goals      3434\n",
      "npxg+xag                         3434\n",
      "progressive_carries              3434\n",
      "prgp                             3434\n",
      "dtype: int64\n"
     ]
    }
   ],
   "source": [
    "# checks\n",
    "print(big5_standard_misc.isnull().sum())"
   ]
  },
  {
   "cell_type": "code",
   "execution_count": 132,
   "id": "30d6f64b-7a92-4637-acb6-e8687706bbbc",
   "metadata": {
    "scrolled": true
   },
   "outputs": [
    {
     "name": "stdout",
     "output_type": "stream",
     "text": [
      "3\n"
     ]
    }
   ],
   "source": [
    "print(big5_standard_misc.duplicated(subset=[\"player\", \"team\", \"comp\", \"season\"]).sum())\n",
    "duplicates = big5_standard_misc[big5_standard_misc.duplicated(subset=[\"player\", \"team\", \"comp\", \"season\"], keep=False)]"
   ]
  },
  {
   "cell_type": "code",
   "execution_count": 133,
   "id": "0a6ff94e-88de-47ed-8ea2-6b9aea653ecc",
   "metadata": {},
   "outputs": [],
   "source": [
    "big5_standard_misc = big5_standard_misc.drop_duplicates()"
   ]
  },
  {
   "cell_type": "code",
   "execution_count": 134,
   "id": "9de209c2-8816-4bed-b99c-a53b13f1399f",
   "metadata": {},
   "outputs": [
    {
     "name": "stdout",
     "output_type": "stream",
     "text": [
      "                 player nationality_standard position_standard   team  \\\n",
      "26209  Emanuele Torrasi                Italy                MF  Milan   \n",
      "26210  Emanuele Torrasi                Italy                MF  Milan   \n",
      "26211  Emanuele Torrasi                Italy                MF  Milan   \n",
      "26212  Emanuele Torrasi                Italy                MF  Milan   \n",
      "\n",
      "       age_standard  birth_year_standard  matches_played  starts  minutes  \\\n",
      "26209          18.0               1999.0               1       0      6.0   \n",
      "26210          18.0               1999.0               1       0      6.0   \n",
      "26211          18.0               1999.0               1       0      6.0   \n",
      "26212          18.0               1999.0               1       0      6.0   \n",
      "\n",
      "       goals  ...  pkwon  country_code_misc     comp     season  \\\n",
      "26209      0  ...    NaN                ITA  Serie A  2017-2018   \n",
      "26210      0  ...    0.0                ITA  Serie A  2017-2018   \n",
      "26211      0  ...    NaN                ITA  Serie A  2017-2018   \n",
      "26212      0  ...    0.0                ITA  Serie A  2017-2018   \n",
      "\n",
      "       xg_expected_goals  npxg_non_penalty_xg  xag_expected_assisted_goals  \\\n",
      "26209                NaN                  NaN                          NaN   \n",
      "26210                NaN                  NaN                          NaN   \n",
      "26211                0.0                  0.0                          0.0   \n",
      "26212                0.0                  0.0                          0.0   \n",
      "\n",
      "       npxg+xag  progressive_carries  prgp  \n",
      "26209       NaN                  NaN   NaN  \n",
      "26210       NaN                  NaN   NaN  \n",
      "26211       0.0                  0.0   0.0  \n",
      "26212       0.0                  0.0   0.0  \n",
      "\n",
      "[4 rows x 37 columns]\n",
      "26209    2017-2018\n",
      "26210    2017-2018\n",
      "26211    2017-2018\n",
      "26212    2017-2018\n",
      "Name: season, dtype: object\n"
     ]
    }
   ],
   "source": [
    "print(duplicates)\n",
    "print(duplicates[\"season\"])"
   ]
  },
  {
   "cell_type": "code",
   "execution_count": 136,
   "id": "b299a26e-64d3-48bc-b391-678b230cb7cd",
   "metadata": {
    "scrolled": true
   },
   "outputs": [
    {
     "name": "stdout",
     "output_type": "stream",
     "text": [
      "                 player nationality_standard position_standard   team  \\\n",
      "26209  Emanuele Torrasi                Italy                MF  Milan   \n",
      "26210  Emanuele Torrasi                Italy                MF  Milan   \n",
      "26211  Emanuele Torrasi                Italy                MF  Milan   \n",
      "26212  Emanuele Torrasi                Italy                MF  Milan   \n",
      "\n",
      "       age_standard  birth_year_standard  matches_played  starts  minutes  \\\n",
      "26209          18.0               1999.0               1       0      6.0   \n",
      "26210          18.0               1999.0               1       0      6.0   \n",
      "26211          18.0               1999.0               1       0      6.0   \n",
      "26212          18.0               1999.0               1       0      6.0   \n",
      "\n",
      "       goals  ...  pkwon  country_code_misc     comp     season  \\\n",
      "26209      0  ...    NaN                ITA  Serie A  2017-2018   \n",
      "26210      0  ...    0.0                ITA  Serie A  2017-2018   \n",
      "26211      0  ...    NaN                ITA  Serie A  2017-2018   \n",
      "26212      0  ...    0.0                ITA  Serie A  2017-2018   \n",
      "\n",
      "       xg_expected_goals  npxg_non_penalty_xg  xag_expected_assisted_goals  \\\n",
      "26209                NaN                  NaN                          NaN   \n",
      "26210                NaN                  NaN                          NaN   \n",
      "26211                0.0                  0.0                          0.0   \n",
      "26212                0.0                  0.0                          0.0   \n",
      "\n",
      "       npxg+xag  progressive_carries  prgp  \n",
      "26209       NaN                  NaN   NaN  \n",
      "26210       NaN                  NaN   NaN  \n",
      "26211       0.0                  0.0   0.0  \n",
      "26212       0.0                  0.0   0.0  \n",
      "\n",
      "[4 rows x 37 columns]\n"
     ]
    }
   ],
   "source": [
    "big5_standard_misc = big5_standard_misc.drop_duplicates(subset=[\"player\", \"team\", \"comp\", \"season\"], keep=\"first\")\n",
    "print(duplicates)"
   ]
  },
  {
   "cell_type": "code",
   "execution_count": 137,
   "id": "432677a6-993a-422f-ae79-a8ad46930448",
   "metadata": {},
   "outputs": [
    {
     "name": "stdout",
     "output_type": "stream",
     "text": [
      "                 player nationality_standard position_standard   team  \\\n",
      "26209  Emanuele Torrasi                Italy                MF  Milan   \n",
      "\n",
      "       age_standard  birth_year_standard  matches_played  starts  minutes  \\\n",
      "26209          18.0               1999.0               1       0      6.0   \n",
      "\n",
      "       goals  ...  pkwon  country_code_misc     comp     season  \\\n",
      "26209      0  ...    NaN                ITA  Serie A  2017-2018   \n",
      "\n",
      "       xg_expected_goals  npxg_non_penalty_xg  xag_expected_assisted_goals  \\\n",
      "26209                NaN                  NaN                          NaN   \n",
      "\n",
      "       npxg+xag  progressive_carries  prgp  \n",
      "26209       NaN                  NaN   NaN  \n",
      "\n",
      "[1 rows x 37 columns]\n"
     ]
    }
   ],
   "source": [
    "dupe_rows = big5_standard_misc[\n",
    "    (big5_standard_misc['player'] == 'Emanuele Torrasi') &\n",
    "    (big5_standard_misc['team'] == 'Milan') &\n",
    "    (big5_standard_misc['comp'] == 'Serie A') &\n",
    "    (big5_standard_misc['season'] == '2017-2018')\n",
    "]\n",
    "\n",
    "print(dupe_rows)"
   ]
  },
  {
   "cell_type": "code",
   "execution_count": 138,
   "id": "d153efdb-2510-4c39-bb6e-ed5621c4e363",
   "metadata": {},
   "outputs": [
    {
     "name": "stdout",
     "output_type": "stream",
     "text": [
      "                 player nationality_standard position_standard   team  \\\n",
      "26209  Emanuele Torrasi                Italy                MF  Milan   \n",
      "\n",
      "       age_standard  birth_year_standard  matches_played  starts  minutes  \\\n",
      "26209          18.0               1999.0               1       0      6.0   \n",
      "\n",
      "       goals  ...  pkwon  country_code_misc     comp     season  \\\n",
      "26209      0  ...    NaN                ITA  Serie A  2017-2018   \n",
      "\n",
      "       xg_expected_goals  npxg_non_penalty_xg  xag_expected_assisted_goals  \\\n",
      "26209                NaN                  NaN                          NaN   \n",
      "\n",
      "       npxg+xag  progressive_carries  prgp  \n",
      "26209       NaN                  NaN   NaN  \n",
      "\n",
      "[1 rows x 37 columns]\n"
     ]
    }
   ],
   "source": [
    "torrasi_dupes = big5_standard_misc[\n",
    "    (big5_standard_misc['player'] == 'Emanuele Torrasi') &\n",
    "    (big5_standard_misc['team'] == 'Milan') &\n",
    "    (big5_standard_misc['comp'] == 'Serie A') &\n",
    "    (big5_standard_misc['season'] == '2017-2018')\n",
    "]\n",
    "print(torrasi_dupes)\n",
    "torrasi_indexes = torrasi_dupes.index\n",
    "# Keep only the first, drop others\n",
    "big5_standard_misc = big5_standard_misc.drop(index=torrasi_indexes[1:])"
   ]
  },
  {
   "cell_type": "code",
   "execution_count": null,
   "id": "7164eac2-fc61-48e1-8b44-a63ebf27d7df",
   "metadata": {},
   "outputs": [
    {
     "name": "stdout",
     "output_type": "stream",
     "text": [
      "                 player nationality_standard position_standard   team  \\\n",
      "20484  Emanuele Torrasi                Italy                MF  Milan   \n",
      "20485  Emanuele Torrasi                Italy                MF  Milan   \n",
      "20486  Emanuele Torrasi                Italy                MF  Milan   \n",
      "20487  Emanuele Torrasi                Italy                MF  Milan   \n",
      "\n",
      "       age_standard  birth_year_standard  matches_played  starts  minutes  \\\n",
      "20484          18.0               1999.0               1       0        6   \n",
      "20485          18.0               1999.0               1       0        6   \n",
      "20486          18.0               1999.0               1       0        6   \n",
      "20487          18.0               1999.0               1       0        6   \n",
      "\n",
      "       goals  ...  pkwon  country_code_misc   league     season  \\\n",
      "20484      0  ...    NaN                ITA  Serie A  2017-2018   \n",
      "20485      0  ...    0.0                ITA  Serie A  2017-2018   \n",
      "20486      0  ...    NaN                ITA  Serie A  2017-2018   \n",
      "20487      0  ...    0.0                ITA  Serie A  2017-2018   \n",
      "\n",
      "       xg_expected_goals  npxg_non_penalty_xg  xag_expected_assisted_goals  \\\n",
      "20484                NaN                  NaN                          NaN   \n",
      "20485                NaN                  NaN                          NaN   \n",
      "20486                0.0                  0.0                          0.0   \n",
      "20487                0.0                  0.0                          0.0   \n",
      "\n",
      "       npxg+xag  progressive_carries  prgp  \n",
      "20484       NaN                  NaN   NaN  \n",
      "20485       NaN                  NaN   NaN  \n",
      "20486       0.0                  0.0   0.0  \n",
      "20487       0.0                  0.0   0.0  \n",
      "\n",
      "[4 rows x 37 columns]\n"
     ]
    }
   ],
   "source": [
    "print(duplicates)"
   ]
  },
  {
   "cell_type": "code",
   "execution_count": null,
   "id": "6e57d4b5-52a9-4728-b5b7-680d2a1147ee",
   "metadata": {},
   "outputs": [],
   "source": [
    "# for project: Paths are always relative to where your script or notebook runs.\n",
    "\n",
    "#If you move the whole project folder (e.g., \"penalties_won\"), it still works.\n",
    "\n",
    "# ✅ Best for personal projects or version control (like GitHub)."
   ]
  },
  {
   "cell_type": "code",
   "execution_count": 139,
   "id": "cce914ec-bceb-4a8e-95b7-cd5351acaef9",
   "metadata": {},
   "outputs": [
    {
     "name": "stdout",
     "output_type": "stream",
     "text": [
      "['Bundesliga' 'Champions League' 'EPL' 'La Liga' 'Ligue 1' 'Serie A']\n",
      "['Bundesliga' 'Champions League' 'EPL' 'La Liga' 'Ligue 1' 'Serie A']\n",
      "player                            object\n",
      "nationality_standard              object\n",
      "position_standard                 object\n",
      "team                              object\n",
      "age_standard                     float64\n",
      "birth_year_standard              float64\n",
      "matches_played                     int64\n",
      "starts                             int64\n",
      "minutes                          float64\n",
      "goals                              int64\n",
      "assists                            int64\n",
      "goals_and_assists                  int64\n",
      "non_penalty_goals                  int64\n",
      "pens_scored                        int64\n",
      "pens_attempted                     int64\n",
      "goals_per90                      float64\n",
      "assists_per90                    float64\n",
      "goals_and_assists_per90          float64\n",
      "non_penalty_goals_per90          float64\n",
      "non_penalty_goals_and_assists    float64\n",
      "country_code_standard             object\n",
      "nationality_misc                  object\n",
      "position_misc                     object\n",
      "age_misc                         float64\n",
      "birth_year_misc                  float64\n",
      "fouls_drawn                      float64\n",
      "offsides                         float64\n",
      "pkwon                            float64\n",
      "country_code_misc                 object\n",
      "comp                              object\n",
      "season                            object\n",
      "xg_expected_goals                float64\n",
      "npxg_non_penalty_xg              float64\n",
      "xag_expected_assisted_goals      float64\n",
      "npxg+xag                         float64\n",
      "progressive_carries              float64\n",
      "prgp                             float64\n",
      "dtype: object\n",
      "       age_standard  birth_year_standard  matches_played        starts  \\\n",
      "count  30858.000000         30858.000000    30872.000000  30872.000000   \n",
      "mean      25.301899          1994.319917       16.314233     12.242096   \n",
      "std        4.522203             5.234606       11.755679     11.097409   \n",
      "min       14.000000          1975.000000        1.000000      0.000000   \n",
      "25%       22.000000          1991.000000        5.000000      2.000000   \n",
      "50%       25.000000          1994.000000       15.000000      9.000000   \n",
      "75%       28.000000          1998.000000       27.000000     21.000000   \n",
      "max       42.000000          2009.000000       38.000000     38.000000   \n",
      "\n",
      "            minutes         goals       assists  goals_and_assists  \\\n",
      "count  30871.000000  30872.000000  30872.000000       30872.000000   \n",
      "mean    1099.382592      1.517913      1.061059           2.578971   \n",
      "std      961.348862      3.075513      1.856728           4.393940   \n",
      "min        1.000000      0.000000      0.000000           0.000000   \n",
      "25%      257.000000      0.000000      0.000000           0.000000   \n",
      "50%      806.000000      0.000000      0.000000           1.000000   \n",
      "75%     1848.000000      2.000000      1.000000           3.000000   \n",
      "max     3420.000000     41.000000     21.000000          49.000000   \n",
      "\n",
      "       non_penalty_goals   pens_scored  ...  birth_year_misc   fouls_drawn  \\\n",
      "count       30872.000000  30872.000000  ...     30858.000000  30852.000000   \n",
      "mean            1.376620      0.141293  ...      1994.319917     13.109944   \n",
      "std             2.716163      0.671490  ...         5.234606     15.491581   \n",
      "min             0.000000      0.000000  ...      1975.000000      0.000000   \n",
      "25%             0.000000      0.000000  ...      1991.000000      2.000000   \n",
      "50%             0.000000      0.000000  ...      1994.000000      7.000000   \n",
      "75%             2.000000      0.000000  ...      1998.000000     19.000000   \n",
      "max            33.000000     14.000000  ...      2009.000000    167.000000   \n",
      "\n",
      "           offsides         pkwon  xg_expected_goals  npxg_non_penalty_xg  \\\n",
      "count  30852.000000  30852.000000       27439.000000         27439.000000   \n",
      "mean       2.128452      0.138986           1.545304             1.402533   \n",
      "std        4.526241      0.452396           2.740434             2.374388   \n",
      "min        0.000000      0.000000           0.000000             0.000000   \n",
      "25%        0.000000      0.000000           0.100000             0.100000   \n",
      "50%        0.000000      0.000000           0.500000             0.500000   \n",
      "75%        2.000000      0.000000           1.700000             1.700000   \n",
      "max       62.000000      6.000000          33.200000            29.300000   \n",
      "\n",
      "       xag_expected_assisted_goals      npxg+xag  progressive_carries  \\\n",
      "count                 27439.000000  27439.000000         27439.000000   \n",
      "mean                      1.083957      2.487226            19.795474   \n",
      "std                       1.625089      3.631113            26.801193   \n",
      "min                       0.000000      0.000000             0.000000   \n",
      "25%                       0.000000      0.200000             2.000000   \n",
      "50%                       0.400000      1.100000             9.000000   \n",
      "75%                       1.400000      3.200000            27.000000   \n",
      "max                      20.000000     37.900000           276.000000   \n",
      "\n",
      "               prgp  \n",
      "count  27439.000000  \n",
      "mean      42.590473  \n",
      "std       50.665339  \n",
      "min        0.000000  \n",
      "25%        4.000000  \n",
      "50%       23.000000  \n",
      "75%       64.000000  \n",
      "max      424.000000  \n",
      "\n",
      "[8 rows x 27 columns]\n"
     ]
    }
   ],
   "source": [
    "big5_standard_misc.sample(10)\n",
    "print(big5_standard_misc['comp'].unique())\n",
    "print(big5_standard_misc['comp'].unique())\n",
    "print(big5_standard_misc.dtypes)\n",
    "print(big5_standard_misc.describe())"
   ]
  },
  {
   "cell_type": "code",
   "execution_count": 140,
   "id": "9373d538-daac-4418-89e9-7d8184f1c3c4",
   "metadata": {},
   "outputs": [
    {
     "data": {
      "application/vnd.microsoft.datawrangler.viewer.v0+json": {
       "columns": [
        {
         "name": "index",
         "rawType": "int64",
         "type": "integer"
        },
        {
         "name": "player",
         "rawType": "object",
         "type": "string"
        },
        {
         "name": "nationality_standard",
         "rawType": "object",
         "type": "string"
        },
        {
         "name": "position_standard",
         "rawType": "object",
         "type": "string"
        },
        {
         "name": "team",
         "rawType": "object",
         "type": "string"
        },
        {
         "name": "age_standard",
         "rawType": "float64",
         "type": "float"
        },
        {
         "name": "birth_year_standard",
         "rawType": "float64",
         "type": "float"
        },
        {
         "name": "matches_played",
         "rawType": "int64",
         "type": "integer"
        },
        {
         "name": "starts",
         "rawType": "int64",
         "type": "integer"
        },
        {
         "name": "minutes",
         "rawType": "float64",
         "type": "float"
        },
        {
         "name": "goals",
         "rawType": "int64",
         "type": "integer"
        },
        {
         "name": "assists",
         "rawType": "int64",
         "type": "integer"
        },
        {
         "name": "goals_and_assists",
         "rawType": "int64",
         "type": "integer"
        },
        {
         "name": "non_penalty_goals",
         "rawType": "int64",
         "type": "integer"
        },
        {
         "name": "pens_scored",
         "rawType": "int64",
         "type": "integer"
        },
        {
         "name": "pens_attempted",
         "rawType": "int64",
         "type": "integer"
        },
        {
         "name": "goals_per90",
         "rawType": "float64",
         "type": "float"
        },
        {
         "name": "assists_per90",
         "rawType": "float64",
         "type": "float"
        },
        {
         "name": "goals_and_assists_per90",
         "rawType": "float64",
         "type": "float"
        },
        {
         "name": "non_penalty_goals_per90",
         "rawType": "float64",
         "type": "float"
        },
        {
         "name": "non_penalty_goals_and_assists",
         "rawType": "float64",
         "type": "float"
        },
        {
         "name": "country_code_standard",
         "rawType": "object",
         "type": "string"
        },
        {
         "name": "nationality_misc",
         "rawType": "object",
         "type": "string"
        },
        {
         "name": "position_misc",
         "rawType": "object",
         "type": "string"
        },
        {
         "name": "age_misc",
         "rawType": "float64",
         "type": "float"
        },
        {
         "name": "birth_year_misc",
         "rawType": "float64",
         "type": "float"
        },
        {
         "name": "fouls_drawn",
         "rawType": "float64",
         "type": "float"
        },
        {
         "name": "offsides",
         "rawType": "float64",
         "type": "float"
        },
        {
         "name": "pkwon",
         "rawType": "float64",
         "type": "float"
        },
        {
         "name": "country_code_misc",
         "rawType": "object",
         "type": "string"
        },
        {
         "name": "comp",
         "rawType": "object",
         "type": "string"
        },
        {
         "name": "season",
         "rawType": "object",
         "type": "string"
        },
        {
         "name": "xg_expected_goals",
         "rawType": "float64",
         "type": "float"
        },
        {
         "name": "npxg_non_penalty_xg",
         "rawType": "float64",
         "type": "float"
        },
        {
         "name": "xag_expected_assisted_goals",
         "rawType": "float64",
         "type": "float"
        },
        {
         "name": "npxg+xag",
         "rawType": "float64",
         "type": "float"
        },
        {
         "name": "progressive_carries",
         "rawType": "float64",
         "type": "float"
        },
        {
         "name": "prgp",
         "rawType": "float64",
         "type": "float"
        }
       ],
       "ref": "891ea6c7-cd5f-4b27-a6ef-69b0a32a290a",
       "rows": [
        [
         "0",
         "Aaron Hunt",
         "Germany",
         "FW,MF",
         "Hamburger SV",
         "29.0",
         "1986.0",
         "22",
         "14",
         "1302.0",
         "4",
         "2",
         "6",
         "4",
         "0",
         "1",
         "0.28",
         "0.14",
         "0.41",
         "0.28",
         "0.41",
         "GER",
         "Germany",
         "FW,MF",
         "29.0",
         "1986.0",
         "33.0",
         "6.0",
         "1.0",
         "GER",
         "Bundesliga",
         "2016-2017",
         null,
         null,
         null,
         null,
         null,
         null
        ],
        [
         "1",
         "Aaron Seydel",
         "Germany",
         "FW",
         "Mainz 05",
         "20.0",
         "1996.0",
         "6",
         "1",
         "176.0",
         "1",
         "0",
         "1",
         "1",
         "0",
         "0",
         "0.51",
         "0.0",
         "0.51",
         "0.51",
         "0.51",
         "GER",
         "Germany",
         "FW",
         "20.0",
         "1996.0",
         "6.0",
         "4.0",
         "0.0",
         "GER",
         "Bundesliga",
         "2016-2017",
         null,
         null,
         null,
         null,
         null,
         null
        ],
        [
         "2",
         "Admir Mehmedi",
         "Switzerland",
         "FW,MF",
         "Leverkusen",
         "25.0",
         "1991.0",
         "22",
         "16",
         "1258.0",
         "3",
         "1",
         "4",
         "3",
         "0",
         "0",
         "0.21",
         "0.07",
         "0.29",
         "0.21",
         "0.29",
         "SUI",
         "Switzerland",
         "FW,MF",
         "25.0",
         "1991.0",
         "20.0",
         "16.0",
         "0.0",
         "SUI",
         "Bundesliga",
         "2016-2017",
         null,
         null,
         null,
         null,
         null,
         null
        ],
        [
         "3",
         "Adrián Ramos",
         "Colombia",
         "FW",
         "Dortmund",
         "30.0",
         "1986.0",
         "7",
         "4",
         "357.0",
         "2",
         "0",
         "2",
         "2",
         "0",
         "0",
         "0.5",
         "0.0",
         "0.5",
         "0.5",
         "0.5",
         "COL",
         "Colombia",
         "FW",
         "30.0",
         "1986.0",
         "8.0",
         "1.0",
         "0.0",
         "COL",
         "Bundesliga",
         "2016-2017",
         null,
         null,
         null,
         null,
         null,
         null
        ],
        [
         "4",
         "Albin Ekdal",
         "Sweden",
         "MF",
         "Hamburger SV",
         "27.0",
         "1989.0",
         "21",
         "13",
         "1247.0",
         "1",
         "1",
         "2",
         "1",
         "0",
         "0",
         "0.07",
         "0.07",
         "0.14",
         "0.07",
         "0.14",
         "SWE",
         "Sweden",
         "MF",
         "27.0",
         "1989.0",
         "28.0",
         "1.0",
         "0.0",
         "SWE",
         "Bundesliga",
         "2016-2017",
         null,
         null,
         null,
         null,
         null,
         null
        ]
       ],
       "shape": {
        "columns": 37,
        "rows": 5
       }
      },
      "text/html": [
       "<div>\n",
       "<style scoped>\n",
       "    .dataframe tbody tr th:only-of-type {\n",
       "        vertical-align: middle;\n",
       "    }\n",
       "\n",
       "    .dataframe tbody tr th {\n",
       "        vertical-align: top;\n",
       "    }\n",
       "\n",
       "    .dataframe thead th {\n",
       "        text-align: right;\n",
       "    }\n",
       "</style>\n",
       "<table border=\"1\" class=\"dataframe\">\n",
       "  <thead>\n",
       "    <tr style=\"text-align: right;\">\n",
       "      <th></th>\n",
       "      <th>player</th>\n",
       "      <th>nationality_standard</th>\n",
       "      <th>position_standard</th>\n",
       "      <th>team</th>\n",
       "      <th>age_standard</th>\n",
       "      <th>birth_year_standard</th>\n",
       "      <th>matches_played</th>\n",
       "      <th>starts</th>\n",
       "      <th>minutes</th>\n",
       "      <th>goals</th>\n",
       "      <th>...</th>\n",
       "      <th>pkwon</th>\n",
       "      <th>country_code_misc</th>\n",
       "      <th>comp</th>\n",
       "      <th>season</th>\n",
       "      <th>xg_expected_goals</th>\n",
       "      <th>npxg_non_penalty_xg</th>\n",
       "      <th>xag_expected_assisted_goals</th>\n",
       "      <th>npxg+xag</th>\n",
       "      <th>progressive_carries</th>\n",
       "      <th>prgp</th>\n",
       "    </tr>\n",
       "  </thead>\n",
       "  <tbody>\n",
       "    <tr>\n",
       "      <th>0</th>\n",
       "      <td>Aaron Hunt</td>\n",
       "      <td>Germany</td>\n",
       "      <td>FW,MF</td>\n",
       "      <td>Hamburger SV</td>\n",
       "      <td>29.0</td>\n",
       "      <td>1986.0</td>\n",
       "      <td>22</td>\n",
       "      <td>14</td>\n",
       "      <td>1302.0</td>\n",
       "      <td>4</td>\n",
       "      <td>...</td>\n",
       "      <td>1.0</td>\n",
       "      <td>GER</td>\n",
       "      <td>Bundesliga</td>\n",
       "      <td>2016-2017</td>\n",
       "      <td>NaN</td>\n",
       "      <td>NaN</td>\n",
       "      <td>NaN</td>\n",
       "      <td>NaN</td>\n",
       "      <td>NaN</td>\n",
       "      <td>NaN</td>\n",
       "    </tr>\n",
       "    <tr>\n",
       "      <th>1</th>\n",
       "      <td>Aaron Seydel</td>\n",
       "      <td>Germany</td>\n",
       "      <td>FW</td>\n",
       "      <td>Mainz 05</td>\n",
       "      <td>20.0</td>\n",
       "      <td>1996.0</td>\n",
       "      <td>6</td>\n",
       "      <td>1</td>\n",
       "      <td>176.0</td>\n",
       "      <td>1</td>\n",
       "      <td>...</td>\n",
       "      <td>0.0</td>\n",
       "      <td>GER</td>\n",
       "      <td>Bundesliga</td>\n",
       "      <td>2016-2017</td>\n",
       "      <td>NaN</td>\n",
       "      <td>NaN</td>\n",
       "      <td>NaN</td>\n",
       "      <td>NaN</td>\n",
       "      <td>NaN</td>\n",
       "      <td>NaN</td>\n",
       "    </tr>\n",
       "    <tr>\n",
       "      <th>2</th>\n",
       "      <td>Admir Mehmedi</td>\n",
       "      <td>Switzerland</td>\n",
       "      <td>FW,MF</td>\n",
       "      <td>Leverkusen</td>\n",
       "      <td>25.0</td>\n",
       "      <td>1991.0</td>\n",
       "      <td>22</td>\n",
       "      <td>16</td>\n",
       "      <td>1258.0</td>\n",
       "      <td>3</td>\n",
       "      <td>...</td>\n",
       "      <td>0.0</td>\n",
       "      <td>SUI</td>\n",
       "      <td>Bundesliga</td>\n",
       "      <td>2016-2017</td>\n",
       "      <td>NaN</td>\n",
       "      <td>NaN</td>\n",
       "      <td>NaN</td>\n",
       "      <td>NaN</td>\n",
       "      <td>NaN</td>\n",
       "      <td>NaN</td>\n",
       "    </tr>\n",
       "    <tr>\n",
       "      <th>3</th>\n",
       "      <td>Adrián Ramos</td>\n",
       "      <td>Colombia</td>\n",
       "      <td>FW</td>\n",
       "      <td>Dortmund</td>\n",
       "      <td>30.0</td>\n",
       "      <td>1986.0</td>\n",
       "      <td>7</td>\n",
       "      <td>4</td>\n",
       "      <td>357.0</td>\n",
       "      <td>2</td>\n",
       "      <td>...</td>\n",
       "      <td>0.0</td>\n",
       "      <td>COL</td>\n",
       "      <td>Bundesliga</td>\n",
       "      <td>2016-2017</td>\n",
       "      <td>NaN</td>\n",
       "      <td>NaN</td>\n",
       "      <td>NaN</td>\n",
       "      <td>NaN</td>\n",
       "      <td>NaN</td>\n",
       "      <td>NaN</td>\n",
       "    </tr>\n",
       "    <tr>\n",
       "      <th>4</th>\n",
       "      <td>Albin Ekdal</td>\n",
       "      <td>Sweden</td>\n",
       "      <td>MF</td>\n",
       "      <td>Hamburger SV</td>\n",
       "      <td>27.0</td>\n",
       "      <td>1989.0</td>\n",
       "      <td>21</td>\n",
       "      <td>13</td>\n",
       "      <td>1247.0</td>\n",
       "      <td>1</td>\n",
       "      <td>...</td>\n",
       "      <td>0.0</td>\n",
       "      <td>SWE</td>\n",
       "      <td>Bundesliga</td>\n",
       "      <td>2016-2017</td>\n",
       "      <td>NaN</td>\n",
       "      <td>NaN</td>\n",
       "      <td>NaN</td>\n",
       "      <td>NaN</td>\n",
       "      <td>NaN</td>\n",
       "      <td>NaN</td>\n",
       "    </tr>\n",
       "  </tbody>\n",
       "</table>\n",
       "<p>5 rows × 37 columns</p>\n",
       "</div>"
      ],
      "text/plain": [
       "          player nationality_standard position_standard          team  \\\n",
       "0     Aaron Hunt              Germany             FW,MF  Hamburger SV   \n",
       "1   Aaron Seydel              Germany                FW      Mainz 05   \n",
       "2  Admir Mehmedi          Switzerland             FW,MF    Leverkusen   \n",
       "3   Adrián Ramos             Colombia                FW      Dortmund   \n",
       "4    Albin Ekdal               Sweden                MF  Hamburger SV   \n",
       "\n",
       "   age_standard  birth_year_standard  matches_played  starts  minutes  goals  \\\n",
       "0          29.0               1986.0              22      14   1302.0      4   \n",
       "1          20.0               1996.0               6       1    176.0      1   \n",
       "2          25.0               1991.0              22      16   1258.0      3   \n",
       "3          30.0               1986.0               7       4    357.0      2   \n",
       "4          27.0               1989.0              21      13   1247.0      1   \n",
       "\n",
       "   ...  pkwon  country_code_misc        comp     season  xg_expected_goals  \\\n",
       "0  ...    1.0                GER  Bundesliga  2016-2017                NaN   \n",
       "1  ...    0.0                GER  Bundesliga  2016-2017                NaN   \n",
       "2  ...    0.0                SUI  Bundesliga  2016-2017                NaN   \n",
       "3  ...    0.0                COL  Bundesliga  2016-2017                NaN   \n",
       "4  ...    0.0                SWE  Bundesliga  2016-2017                NaN   \n",
       "\n",
       "   npxg_non_penalty_xg  xag_expected_assisted_goals  npxg+xag  \\\n",
       "0                  NaN                          NaN       NaN   \n",
       "1                  NaN                          NaN       NaN   \n",
       "2                  NaN                          NaN       NaN   \n",
       "3                  NaN                          NaN       NaN   \n",
       "4                  NaN                          NaN       NaN   \n",
       "\n",
       "   progressive_carries  prgp  \n",
       "0                  NaN   NaN  \n",
       "1                  NaN   NaN  \n",
       "2                  NaN   NaN  \n",
       "3                  NaN   NaN  \n",
       "4                  NaN   NaN  \n",
       "\n",
       "[5 rows x 37 columns]"
      ]
     },
     "execution_count": 140,
     "metadata": {},
     "output_type": "execute_result"
    }
   ],
   "source": [
    "big5_standard_misc.head(5)"
   ]
  }
 ],
 "metadata": {
  "kernelspec": {
   "display_name": "fbref_analytics",
   "language": "python",
   "name": "python3"
  },
  "language_info": {
   "codemirror_mode": {
    "name": "ipython",
    "version": 3
   },
   "file_extension": ".py",
   "mimetype": "text/x-python",
   "name": "python",
   "nbconvert_exporter": "python",
   "pygments_lexer": "ipython3",
   "version": "3.13.2"
  }
 },
 "nbformat": 4,
 "nbformat_minor": 5
}
