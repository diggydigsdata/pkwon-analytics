{
 "cells": [
  {
   "cell_type": "code",
   "execution_count": null,
   "id": "fe5cc745",
   "metadata": {},
   "outputs": [],
   "source": []
  },
  {
   "cell_type": "markdown",
   "id": "6ddb01d9",
   "metadata": {},
   "source": [
    "# 📊 Historical Data Project Checklist\n",
    "\n",
    "## Schema + Database\n",
    "- [ ] Forward engineer schema from EER model into MariaDB\n",
    "- [ ] Export schema as `.sql` and commit to repo\n",
    "- [ ] Store DB connection config securely (`.env` file, not hardcoded)\n",
    "\n",
    "## Data Ingestion\n",
    "- [ ] Clean + normalize historical CSVs (consistent columns & datatypes)\n",
    "- [ ] Write Python ETL:\n",
    "  - [ ] Load CSVs into staging\n",
    "  - [ ] Upsert into dimensions\n",
    "  - [ ] Insert/Update fact table\n",
    "  - [ ] Add logging (row counts, success messages)\n",
    "- [ ] Run sanity checks:\n",
    "  - [ ] Row counts match expected\n",
    "  - [ ] No duplicate facts at the grain\n",
    "  - [ ] Foreign keys resolve correctly\n",
    "\n",
    "## Analysis Layer\n",
    "- [ ] Write SQL queries / aggregations:\n",
    "  - [ ] Comp × season summaries\n",
    "  - [ ] Player career totals\n",
    "  - [ ] Team vs player splits\n",
    "- [ ] Save queries as SQL files or in Jupyter notebooks\n",
    "- [ ] (Optional) Create SQL views for common aggregations\n",
    "\n",
    "## Visualisation\n",
    "- [ ] Connect queries → pandas → Plotly\n",
    "- [ ] Export charts:\n",
    "  - [ ] Static PNGs (`kaleido`) for embedding\n",
    "  - [ ] Interactive HTML (`fig.write_html`) for site\n",
    "- [ ] Test chart interactivity locally\n",
    "\n",
    "## Site / Publishing\n",
    "- [ ] Organize outputs:\n",
    "  - [ ] `/assets/images/plots/` for PNGs\n",
    "  - [ ] `/plots/` for HTML\n",
    "- [ ] Create Jekyll/Quarto pages embedding plots\n",
    "- [ ] Push to GitHub → verify GitHub Actions build → deploy to Pages\n",
    "- [ ] Check iframe paths for interactive Plotly HTMLs\n",
    "\n",
    "## Polish / Extras\n",
    "- [ ] Add README with project overview + schema diagram\n",
    "- [ ] Export EER diagram as image and include on site\n",
    "- [ ] Add validation script for ETL (row counts, duplicates)\n",
    "- [ ] Document environment (`requirements.txt` or `environment.yml`)\n",
    "- [ ] (Optional) Add Makefile / batch script for end-to-end run"
   ]
  }
 ],
 "metadata": {
  "language_info": {
   "name": "python"
  }
 },
 "nbformat": 4,
 "nbformat_minor": 5
}
