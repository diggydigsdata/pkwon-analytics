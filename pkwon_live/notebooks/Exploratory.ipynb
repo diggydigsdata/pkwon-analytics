{
 "cells": [
  {
   "cell_type": "code",
   "execution_count": 8,
   "id": "b460d985",
   "metadata": {},
   "outputs": [
    {
     "name": "stdout",
     "output_type": "stream",
     "text": [
      "(30872, 32)\n",
      "Index(['player', 'team', 'matches_played', 'starts', 'minutes', 'goals',\n",
      "       'assists', 'goals_and_assists', 'non_penalty_goals', 'pens_scored',\n",
      "       'pens_attempted', 'goals_per90', 'assists_per90',\n",
      "       'goals_and_assists_per90', 'non_penalty_goals_per90',\n",
      "       'non_penalty_goals_and_assists', 'fouls_drawn', 'offsides', 'pkwon',\n",
      "       'comp', 'season', 'xg_expected_goals', 'npxg_non_penalty_xg',\n",
      "       'xag_expected_assisted_goals', 'npxg+xag', 'progressive_carries',\n",
      "       'prgp', 'nationality', 'country_code', 'position', 'age', 'birth_year'],\n",
      "      dtype='object')\n",
      "player                            object\n",
      "team                              object\n",
      "matches_played                     int64\n",
      "starts                             int64\n",
      "minutes                          float64\n",
      "goals                              int64\n",
      "assists                            int64\n",
      "goals_and_assists                  int64\n",
      "non_penalty_goals                  int64\n",
      "pens_scored                        int64\n",
      "pens_attempted                     int64\n",
      "goals_per90                      float64\n",
      "assists_per90                    float64\n",
      "goals_and_assists_per90          float64\n",
      "non_penalty_goals_per90          float64\n",
      "non_penalty_goals_and_assists    float64\n",
      "fouls_drawn                      float64\n",
      "offsides                         float64\n",
      "pkwon                            float64\n",
      "comp                              object\n",
      "season                            object\n",
      "xg_expected_goals                float64\n",
      "npxg_non_penalty_xg              float64\n",
      "xag_expected_assisted_goals      float64\n",
      "npxg+xag                         float64\n",
      "progressive_carries              float64\n",
      "prgp                             float64\n",
      "nationality                       object\n",
      "country_code                      object\n",
      "position                          object\n",
      "age                              float64\n",
      "birth_year                       float64\n",
      "dtype: object\n"
     ]
    }
   ],
   "source": [
    "import pandas as pd\n",
    "from pathlib import Path\n",
    "import os\n",
    "big_5_final = pd.read_csv('../data/final/big5_ucl_pkwon_final.csv')\n",
    "print(big_5_final.shape)\n",
    "print(big_5_final.columns)\n",
    "print(big_5_final.dtypes)"
   ]
  },
  {
   "cell_type": "markdown",
   "id": "7505a052",
   "metadata": {},
   "source": [
    "'player', 'team', 'matches_played', 'starts', 'minutes', 'goals',\n",
    "       'assists', 'goals_and_assists', 'non_penalty_goals', 'pens_scored',\n",
    "       'pens_attempted', 'goals_per90', 'assists_per90',\n",
    "       'goals_and_assists_per90', 'non_penalty_goals_per90',\n",
    "       'non_penalty_goals_and_assists', 'fouls_drawn', 'offsides', 'pkwon',\n",
    "       'comp', 'season', 'xg_expected_goals', 'npxg_non_penalty_xg',\n",
    "       'xag_expected_assisted_goals', 'npxg+xag', 'progressive_carries',\n",
    "       'prgp', 'nationality', 'country_code', 'position', 'age', 'birth_year'\n",
    "\n",
    "#fact table  \n",
    "grain: one row per player per team per competition per season\n",
    "player_id, team_id, comp_id, season_id, matches_played, starts, minutes, goals,\n",
    "       assists, non_penalty_goals, pens_scored,\n",
    "       pens_attempted, fouls_drawn, offsides, pkwon,\n",
    "       xg_expected_goals, npxg_non_penalty_xg,\n",
    "       xag_expected_assisted_goals, progressive_carries,\n",
    "       prgp, age\n",
    "#dim tables\n",
    "DimPlayer:\n",
    "player_id, player_name, dob, nationality, position\n",
    "DimTeam:\n",
    "team_id, team_name, country_code\n",
    "DimCompetition:\n",
    "comp_id, comp_name\n",
    "DimSeason:\n",
    "season_id, season_name\n",
    "\n",
    "Drop:\n",
    "derived metrics: goals_per90, assists_per90, goals_and_assists_per90, non_penalty_goals_per90, non_penalty_goals_and_assists, npxg+xag, goals_and_assists, goals_and_assists_per90, goals_per_90, assists_per90, non_penalty_goals_per90, non_penalty_goals_and_assists\n",
    "\n",
    "Rename:\n",
    "prgp -> progressive_passes, pkwon -> penalties_won"
   ]
  },
  {
   "cell_type": "markdown",
   "id": "c5f6157f",
   "metadata": {},
   "source": []
  }
 ],
 "metadata": {
  "kernelspec": {
   "display_name": "stats-env",
   "language": "python",
   "name": "python3"
  },
  "language_info": {
   "codemirror_mode": {
    "name": "ipython",
    "version": 3
   },
   "file_extension": ".py",
   "mimetype": "text/x-python",
   "name": "python",
   "nbconvert_exporter": "python",
   "pygments_lexer": "ipython3",
   "version": "3.13.7"
  }
 },
 "nbformat": 4,
 "nbformat_minor": 5
}
