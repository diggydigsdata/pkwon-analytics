{
 "cells": [
  {
   "cell_type": "code",
   "execution_count": 56,
   "id": "9cd2219c-3e62-4d81-8949-972465b1ea0c",
   "metadata": {},
   "outputs": [],
   "source": [
    "import ScraperFC"
   ]
  },
  {
   "cell_type": "code",
   "execution_count": 57,
   "id": "bbbdb54f-4ac0-479f-b32a-b73bc17f0752",
   "metadata": {},
   "outputs": [],
   "source": [
    "import ScraperFC.fbref as fbref"
   ]
  },
  {
   "cell_type": "code",
   "execution_count": 58,
   "id": "c6f65738-30c6-4478-884d-c4adcc4f3ebb",
   "metadata": {
    "scrolled": true
   },
   "outputs": [],
   "source": [
    "import pandas as pd"
   ]
  },
  {
   "cell_type": "code",
   "execution_count": 59,
   "id": "c6b86e7e-48c4-44ba-901e-8583c605a00e",
   "metadata": {},
   "outputs": [
    {
     "name": "stdout",
     "output_type": "stream",
     "text": [
      "['BeautifulSoup', 'By', 'CloudScraper', 'EC', 'FBref', 'FBrefRateLimitException', 'InvalidLeagueException', 'InvalidYearException', 'NoMatchLinksException', 'Options', 'Sequence', 'StringIO', 'TimeoutException', 'Union', 'WebDriverWait', '__builtins__', '__cached__', '__doc__', '__file__', '__loader__', '__name__', '__package__', '__spec__', 'comps', 'pd', 're', 'requests', 'stats_categories', 'time', 'tqdm', 'warnings', 'webdriver']\n"
     ]
    }
   ],
   "source": [
    "print(dir(fbref))"
   ]
  },
  {
   "cell_type": "code",
   "execution_count": 60,
   "id": "a8fa5cd7-c36c-4ff6-b970-01eef4fbadcf",
   "metadata": {},
   "outputs": [],
   "source": [
    "from ScraperFC.fbref import FBref"
   ]
  },
  {
   "cell_type": "code",
   "execution_count": 61,
   "id": "58568b80-c30f-46b3-bb95-d0c2103fd077",
   "metadata": {},
   "outputs": [],
   "source": [
    "# initialise fbref scraper\n",
    "fb = FBref()"
   ]
  },
  {
   "cell_type": "code",
   "execution_count": null,
   "id": "a21fa661-2ea4-4628-8ec7-88908d45016b",
   "metadata": {},
   "outputs": [],
   "source": [
    "# Lists of seasons and leagues https://github.com/oseymour/ScraperFC/commit/954b683080b6827a841abfd89779d8b5075a8cb7#diff-bf94e3defa850f738bf8c1e83777418084bf764317d7aabf5590a21383d1e3a3\n",
    "seasons = [\"2016-2017\", \"2017-2018\", \"2018-2019\", \"2019-2020\", \"2020-2021\", \"2021-2022\", \"2022-2023\", \"2023-2024\", \"2024-2025\"]\n",
    "leagues = [\"Europa League\", \"Europa Conference League\", \"EPL\", \"La Liga\", \"Serie A\", \"Bundesliga\", \"Ligue 1\"]"
   ]
  },
  {
   "cell_type": "code",
   "execution_count": 71,
   "id": "13ba37da-32d1-4990-97ac-313553633553",
   "metadata": {},
   "outputs": [
    {
     "name": "stdout",
     "output_type": "stream",
     "text": [
      "Scraping Europa League 2016-2017...\n"
     ]
    },
    {
     "name": "stderr",
     "output_type": "stream",
     "text": [
      "c:\\Users\\eoind\\anaconda3\\envs\\fbref_analytics\\Lib\\site-packages\\ScraperFC\\fbref.py:583: UserWarning: No player stats table ever loaded for 2016-2017 Europa League standard (https://fbref.com//en/comps/19/2016-2017/stats/2016-2017-Europa-League-Stats). It is likely that there is no data for this year-league.\n",
      "  warnings.warn(\n",
      "c:\\Users\\eoind\\anaconda3\\envs\\fbref_analytics\\Lib\\site-packages\\ScraperFC\\fbref.py:583: UserWarning: No player stats table ever loaded for 2016-2017 Europa League misc (https://fbref.com//en/comps/19/2016-2017/misc/2016-2017-Europa-League-Stats). It is likely that there is no data for this year-league.\n",
      "  warnings.warn(\n"
     ]
    },
    {
     "name": "stdout",
     "output_type": "stream",
     "text": [
      "Failed scraping Europa League 2016-2017: 'NoneType' object has no attribute 'columns'\n",
      "Scraping Europa Conference League 2016-2017...\n",
      "Failed scraping Europa Conference League 2016-2017: 2016-2017 is not a valid year for Europa Conference League. Valid years are ['2025-2026', '2024-2025', '2023-2024', '2022-2023', '2021-2022'].\n",
      "\n",
      "See https://scraperfc.readthedocs.io/en/latest/year_parameter.html for specifics.\n",
      "\n",
      "Scraping Europa League 2017-2018...\n"
     ]
    },
    {
     "name": "stderr",
     "output_type": "stream",
     "text": [
      "c:\\Users\\eoind\\anaconda3\\envs\\fbref_analytics\\Lib\\site-packages\\ScraperFC\\fbref.py:583: UserWarning: No player stats table ever loaded for 2017-2018 Europa League standard (https://fbref.com//en/comps/19/2017-2018/stats/2017-2018-Europa-League-Stats). It is likely that there is no data for this year-league.\n",
      "  warnings.warn(\n",
      "c:\\Users\\eoind\\anaconda3\\envs\\fbref_analytics\\Lib\\site-packages\\ScraperFC\\fbref.py:583: UserWarning: No player stats table ever loaded for 2017-2018 Europa League misc (https://fbref.com//en/comps/19/2017-2018/misc/2017-2018-Europa-League-Stats). It is likely that there is no data for this year-league.\n",
      "  warnings.warn(\n"
     ]
    },
    {
     "name": "stdout",
     "output_type": "stream",
     "text": [
      "Failed scraping Europa League 2017-2018: 'NoneType' object has no attribute 'columns'\n",
      "Scraping Europa Conference League 2017-2018...\n",
      "Failed scraping Europa Conference League 2017-2018: 2017-2018 is not a valid year for Europa Conference League. Valid years are ['2025-2026', '2024-2025', '2023-2024', '2022-2023', '2021-2022'].\n",
      "\n",
      "See https://scraperfc.readthedocs.io/en/latest/year_parameter.html for specifics.\n",
      "\n",
      "Scraping Europa League 2018-2019...\n"
     ]
    },
    {
     "name": "stderr",
     "output_type": "stream",
     "text": [
      "c:\\Users\\eoind\\anaconda3\\envs\\fbref_analytics\\Lib\\site-packages\\ScraperFC\\fbref.py:583: UserWarning: No player stats table ever loaded for 2018-2019 Europa League standard (https://fbref.com//en/comps/19/2018-2019/stats/2018-2019-Europa-League-Stats). It is likely that there is no data for this year-league.\n",
      "  warnings.warn(\n",
      "c:\\Users\\eoind\\anaconda3\\envs\\fbref_analytics\\Lib\\site-packages\\ScraperFC\\fbref.py:583: UserWarning: No player stats table ever loaded for 2018-2019 Europa League misc (https://fbref.com//en/comps/19/2018-2019/misc/2018-2019-Europa-League-Stats). It is likely that there is no data for this year-league.\n",
      "  warnings.warn(\n"
     ]
    },
    {
     "name": "stdout",
     "output_type": "stream",
     "text": [
      "Failed scraping Europa League 2018-2019: 'NoneType' object has no attribute 'columns'\n",
      "Scraping Europa Conference League 2018-2019...\n",
      "Failed scraping Europa Conference League 2018-2019: 2018-2019 is not a valid year for Europa Conference League. Valid years are ['2025-2026', '2024-2025', '2023-2024', '2022-2023', '2021-2022'].\n",
      "\n",
      "See https://scraperfc.readthedocs.io/en/latest/year_parameter.html for specifics.\n",
      "\n",
      "Scraping Europa League 2019-2020...\n"
     ]
    },
    {
     "name": "stderr",
     "output_type": "stream",
     "text": [
      "c:\\Users\\eoind\\anaconda3\\envs\\fbref_analytics\\Lib\\site-packages\\ScraperFC\\fbref.py:583: UserWarning: No player stats table ever loaded for 2019-2020 Europa League standard (https://fbref.com//en/comps/19/2019-2020/stats/2019-2020-Europa-League-Stats). It is likely that there is no data for this year-league.\n",
      "  warnings.warn(\n",
      "c:\\Users\\eoind\\anaconda3\\envs\\fbref_analytics\\Lib\\site-packages\\ScraperFC\\fbref.py:583: UserWarning: No player stats table ever loaded for 2019-2020 Europa League misc (https://fbref.com//en/comps/19/2019-2020/misc/2019-2020-Europa-League-Stats). It is likely that there is no data for this year-league.\n",
      "  warnings.warn(\n"
     ]
    },
    {
     "name": "stdout",
     "output_type": "stream",
     "text": [
      "Failed scraping Europa League 2019-2020: 'NoneType' object has no attribute 'columns'\n",
      "Scraping Europa Conference League 2019-2020...\n",
      "Failed scraping Europa Conference League 2019-2020: 2019-2020 is not a valid year for Europa Conference League. Valid years are ['2025-2026', '2024-2025', '2023-2024', '2022-2023', '2021-2022'].\n",
      "\n",
      "See https://scraperfc.readthedocs.io/en/latest/year_parameter.html for specifics.\n",
      "\n",
      "Scraping Europa League 2020-2021...\n"
     ]
    },
    {
     "name": "stderr",
     "output_type": "stream",
     "text": [
      "c:\\Users\\eoind\\anaconda3\\envs\\fbref_analytics\\Lib\\site-packages\\ScraperFC\\fbref.py:583: UserWarning: No player stats table ever loaded for 2020-2021 Europa League standard (https://fbref.com//en/comps/19/2020-2021/stats/2020-2021-Europa-League-Stats). It is likely that there is no data for this year-league.\n",
      "  warnings.warn(\n",
      "c:\\Users\\eoind\\anaconda3\\envs\\fbref_analytics\\Lib\\site-packages\\ScraperFC\\fbref.py:583: UserWarning: No player stats table ever loaded for 2020-2021 Europa League misc (https://fbref.com//en/comps/19/2020-2021/misc/2020-2021-Europa-League-Stats). It is likely that there is no data for this year-league.\n",
      "  warnings.warn(\n"
     ]
    },
    {
     "name": "stdout",
     "output_type": "stream",
     "text": [
      "Failed scraping Europa League 2020-2021: 'NoneType' object has no attribute 'columns'\n",
      "Scraping Europa Conference League 2020-2021...\n",
      "Failed scraping Europa Conference League 2020-2021: 2020-2021 is not a valid year for Europa Conference League. Valid years are ['2025-2026', '2024-2025', '2023-2024', '2022-2023', '2021-2022'].\n",
      "\n",
      "See https://scraperfc.readthedocs.io/en/latest/year_parameter.html for specifics.\n",
      "\n",
      "Scraping Europa League 2021-2022...\n"
     ]
    },
    {
     "name": "stderr",
     "output_type": "stream",
     "text": [
      "c:\\Users\\eoind\\anaconda3\\envs\\fbref_analytics\\Lib\\site-packages\\ScraperFC\\fbref.py:583: UserWarning: No player stats table ever loaded for 2021-2022 Europa League standard (https://fbref.com//en/comps/19/2021-2022/stats/2021-2022-Europa-League-Stats). It is likely that there is no data for this year-league.\n",
      "  warnings.warn(\n",
      "c:\\Users\\eoind\\anaconda3\\envs\\fbref_analytics\\Lib\\site-packages\\ScraperFC\\fbref.py:583: UserWarning: No player stats table ever loaded for 2021-2022 Europa League misc (https://fbref.com//en/comps/19/2021-2022/misc/2021-2022-Europa-League-Stats). It is likely that there is no data for this year-league.\n",
      "  warnings.warn(\n"
     ]
    },
    {
     "name": "stdout",
     "output_type": "stream",
     "text": [
      "Failed scraping Europa League 2021-2022: 'NoneType' object has no attribute 'columns'\n",
      "Scraping Europa Conference League 2021-2022...\n"
     ]
    },
    {
     "name": "stderr",
     "output_type": "stream",
     "text": [
      "c:\\Users\\eoind\\anaconda3\\envs\\fbref_analytics\\Lib\\site-packages\\ScraperFC\\fbref.py:583: UserWarning: No player stats table ever loaded for 2021-2022 Europa Conference League standard (https://fbref.com//en/comps/882/2021-2022/stats/2021-2022-Conference-League-Stats). It is likely that there is no data for this year-league.\n",
      "  warnings.warn(\n",
      "c:\\Users\\eoind\\anaconda3\\envs\\fbref_analytics\\Lib\\site-packages\\ScraperFC\\fbref.py:583: UserWarning: No player stats table ever loaded for 2021-2022 Europa Conference League misc (https://fbref.com//en/comps/882/2021-2022/misc/2021-2022-Conference-League-Stats). It is likely that there is no data for this year-league.\n",
      "  warnings.warn(\n"
     ]
    },
    {
     "name": "stdout",
     "output_type": "stream",
     "text": [
      "Failed scraping Europa Conference League 2021-2022: 'NoneType' object has no attribute 'columns'\n",
      "Scraping Europa League 2022-2023...\n"
     ]
    },
    {
     "name": "stderr",
     "output_type": "stream",
     "text": [
      "c:\\Users\\eoind\\anaconda3\\envs\\fbref_analytics\\Lib\\site-packages\\ScraperFC\\fbref.py:583: UserWarning: No player stats table ever loaded for 2022-2023 Europa League standard (https://fbref.com//en/comps/19/2022-2023/stats/2022-2023-Europa-League-Stats). It is likely that there is no data for this year-league.\n",
      "  warnings.warn(\n",
      "c:\\Users\\eoind\\anaconda3\\envs\\fbref_analytics\\Lib\\site-packages\\ScraperFC\\fbref.py:583: UserWarning: No player stats table ever loaded for 2022-2023 Europa League misc (https://fbref.com//en/comps/19/2022-2023/misc/2022-2023-Europa-League-Stats). It is likely that there is no data for this year-league.\n",
      "  warnings.warn(\n"
     ]
    },
    {
     "name": "stdout",
     "output_type": "stream",
     "text": [
      "Failed scraping Europa League 2022-2023: 'NoneType' object has no attribute 'columns'\n",
      "Scraping Europa Conference League 2022-2023...\n"
     ]
    },
    {
     "name": "stderr",
     "output_type": "stream",
     "text": [
      "c:\\Users\\eoind\\anaconda3\\envs\\fbref_analytics\\Lib\\site-packages\\ScraperFC\\fbref.py:583: UserWarning: No player stats table ever loaded for 2022-2023 Europa Conference League standard (https://fbref.com//en/comps/882/2022-2023/stats/2022-2023-Conference-League-Stats). It is likely that there is no data for this year-league.\n",
      "  warnings.warn(\n",
      "c:\\Users\\eoind\\anaconda3\\envs\\fbref_analytics\\Lib\\site-packages\\ScraperFC\\fbref.py:583: UserWarning: No player stats table ever loaded for 2022-2023 Europa Conference League misc (https://fbref.com//en/comps/882/2022-2023/misc/2022-2023-Conference-League-Stats). It is likely that there is no data for this year-league.\n",
      "  warnings.warn(\n"
     ]
    },
    {
     "name": "stdout",
     "output_type": "stream",
     "text": [
      "Failed scraping Europa Conference League 2022-2023: 'NoneType' object has no attribute 'columns'\n",
      "Scraping Europa League 2023-2024...\n"
     ]
    },
    {
     "name": "stderr",
     "output_type": "stream",
     "text": [
      "c:\\Users\\eoind\\anaconda3\\envs\\fbref_analytics\\Lib\\site-packages\\ScraperFC\\fbref.py:583: UserWarning: No player stats table ever loaded for 2023-2024 Europa League standard (https://fbref.com//en/comps/19/2023-2024/stats/2023-2024-Europa-League-Stats). It is likely that there is no data for this year-league.\n",
      "  warnings.warn(\n",
      "c:\\Users\\eoind\\anaconda3\\envs\\fbref_analytics\\Lib\\site-packages\\ScraperFC\\fbref.py:583: UserWarning: No player stats table ever loaded for 2023-2024 Europa League misc (https://fbref.com//en/comps/19/2023-2024/misc/2023-2024-Europa-League-Stats). It is likely that there is no data for this year-league.\n",
      "  warnings.warn(\n"
     ]
    },
    {
     "name": "stdout",
     "output_type": "stream",
     "text": [
      "Failed scraping Europa League 2023-2024: 'NoneType' object has no attribute 'columns'\n",
      "Scraping Europa Conference League 2023-2024...\n"
     ]
    },
    {
     "name": "stderr",
     "output_type": "stream",
     "text": [
      "c:\\Users\\eoind\\anaconda3\\envs\\fbref_analytics\\Lib\\site-packages\\ScraperFC\\fbref.py:583: UserWarning: No player stats table ever loaded for 2023-2024 Europa Conference League standard (https://fbref.com//en/comps/882/2023-2024/stats/2023-2024-Conference-League-Stats). It is likely that there is no data for this year-league.\n",
      "  warnings.warn(\n",
      "c:\\Users\\eoind\\anaconda3\\envs\\fbref_analytics\\Lib\\site-packages\\ScraperFC\\fbref.py:583: UserWarning: No player stats table ever loaded for 2023-2024 Europa Conference League misc (https://fbref.com//en/comps/882/2023-2024/misc/2023-2024-Conference-League-Stats). It is likely that there is no data for this year-league.\n",
      "  warnings.warn(\n"
     ]
    },
    {
     "name": "stdout",
     "output_type": "stream",
     "text": [
      "Failed scraping Europa Conference League 2023-2024: 'NoneType' object has no attribute 'columns'\n",
      "Scraping Europa League 2024-2025...\n"
     ]
    },
    {
     "name": "stderr",
     "output_type": "stream",
     "text": [
      "c:\\Users\\eoind\\anaconda3\\envs\\fbref_analytics\\Lib\\site-packages\\ScraperFC\\fbref.py:583: UserWarning: No player stats table ever loaded for 2024-2025 Europa League standard (https://fbref.com//en/comps/19/2024-2025/stats/2024-2025-Europa-League-Stats). It is likely that there is no data for this year-league.\n",
      "  warnings.warn(\n",
      "c:\\Users\\eoind\\anaconda3\\envs\\fbref_analytics\\Lib\\site-packages\\ScraperFC\\fbref.py:583: UserWarning: No player stats table ever loaded for 2024-2025 Europa League misc (https://fbref.com//en/comps/19/2024-2025/misc/2024-2025-Europa-League-Stats). It is likely that there is no data for this year-league.\n",
      "  warnings.warn(\n"
     ]
    },
    {
     "name": "stdout",
     "output_type": "stream",
     "text": [
      "Failed scraping Europa League 2024-2025: 'NoneType' object has no attribute 'columns'\n",
      "Scraping Europa Conference League 2024-2025...\n"
     ]
    },
    {
     "name": "stderr",
     "output_type": "stream",
     "text": [
      "c:\\Users\\eoind\\anaconda3\\envs\\fbref_analytics\\Lib\\site-packages\\ScraperFC\\fbref.py:583: UserWarning: No player stats table ever loaded for 2024-2025 Europa Conference League standard (https://fbref.com//en/comps/882/2024-2025/stats/2024-2025-Conference-League-Stats). It is likely that there is no data for this year-league.\n",
      "  warnings.warn(\n",
      "c:\\Users\\eoind\\anaconda3\\envs\\fbref_analytics\\Lib\\site-packages\\ScraperFC\\fbref.py:583: UserWarning: No player stats table ever loaded for 2024-2025 Europa Conference League misc (https://fbref.com//en/comps/882/2024-2025/misc/2024-2025-Conference-League-Stats). It is likely that there is no data for this year-league.\n",
      "  warnings.warn(\n"
     ]
    },
    {
     "name": "stdout",
     "output_type": "stream",
     "text": [
      "Failed scraping Europa Conference League 2024-2025: 'NoneType' object has no attribute 'columns'\n"
     ]
    }
   ],
   "source": [
    "for season in seasons:\n",
    "    for league in leagues:\n",
    "        try:\n",
    "            print(f\"Scraping {league} {season}...\")\n",
    "\n",
    "            _, _, df_standard = fb.scrape_stats(season, league, 'standard')\n",
    "            _, _, df_misc = fb.scrape_stats(season, league, 'misc')\n",
    "\n",
    "            # Before saving each DataFrame. To make the top row the headers and remove double-indexing\n",
    "            df_standard.columns = [col[-1] for col in df_standard.columns]\n",
    "            df_misc.columns = [col[-1] for col in df_misc.columns]\n",
    "\n",
    "            # Save separately\n",
    "            df_standard.to_csv(f\"{league}_{season}_standard.csv\", index=False)\n",
    "            df_misc.to_csv(f\"{league}_{season}_misc.csv\", index=False)\n",
    "\n",
    "        except Exception as e:\n",
    "            print(f\"Failed scraping {league} {season}: {e}\")"
   ]
  },
  {
   "cell_type": "markdown",
   "id": "2c5b2178",
   "metadata": {},
   "source": [
    "Europa League 2016-17 → 2024-25: both stats and misc tables missing (https://fbref.com//en/comps/19/<season>/stats/... and .../misc/...), so ScraperFC receives no table HTML.\n",
    "Europa Conference League 2016-17 → 2020-21: seasons rejected before scraping (<season> is not a valid year per ScraperFC docs).\n",
    "Europa Conference League 2021-22 → 2024-25: both stats and misc tables missing (https://fbref.com//en/comps/882/<season>/stats/... and .../misc/...), yielding NoneType.columns.\n",
    "The 2024-25 Champions League player tables failed the same way: both https://fbref.com//en/comps/8/2024-2025/stats/2024-2025-Champions-League-Stats and /misc/... didn’t yield HTML tables on the initial request, so ScraperFC got None and then errored when it tried to access .columns."
   ]
  }
 ],
 "metadata": {
  "kernelspec": {
   "display_name": "fbref_analytics",
   "language": "python",
   "name": "python3"
  },
  "language_info": {
   "codemirror_mode": {
    "name": "ipython",
    "version": 3
   },
   "file_extension": ".py",
   "mimetype": "text/x-python",
   "name": "python",
   "nbconvert_exporter": "python",
   "pygments_lexer": "ipython3",
   "version": "3.13.2"
  }
 },
 "nbformat": 4,
 "nbformat_minor": 5
}
